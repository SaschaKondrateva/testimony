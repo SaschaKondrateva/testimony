{
 "cells": [
  {
   "cell_type": "code",
   "execution_count": 45,
   "metadata": {},
   "outputs": [],
   "source": [
    "dictionary = {'а':'a','б':'b','в':'v','г':'g','д':'d','е':'e','ё':'yo',\n",
    "      'ж':'zh','з':'z','и':'i','й':'i','к':'k','л':'l','м':'m','н':'n',\n",
    "      'о':'o','п':'p','р':'r','с':'s','т':'t','у':'u','ф':'f','х':'h',\n",
    "      'ц':'c','ч':'ch','ш':'sh','щ':'sch','ъ':'','ы':'y','ь':'','э':'e',\n",
    "      'ю':'u','я':'ya', 'А':'A','Б':'B','В':'V','Г':'G','Д':'D','Е':'E','Ё':'YO',\n",
    "      'Ж':'ZH','З':'Z','И':'I','Й':'I','К':'K','Л':'L','М':'M','Н':'N',\n",
    "      'О':'O','П':'P','Р':'R','С':'S','Т':'T','У':'U','Ф':'F','Х':'H',\n",
    "      'Ц':'C','Ч':'CH','Ш':'SH','Щ':'SCH','Ъ':'','Ы':'y','Ь':'','Э':'E',\n",
    "      'Ю':'U','Я':'YA',',':',','?':'','~':'','!':'','@':'','#':'',\n",
    "      '$':'','%':'','^':'','&':'','*':'','(':'',')':'','-':'','=':'','+':'',\n",
    "      ':':'',';':'','<':'','>':'','\\'':'','\"':'','\\\\':'','/':'','№':'',\n",
    "      '[':'',']':'','{':'','}':'','ґ':'','ї':'', 'є':'','Ґ':'g','Ї':'i',\n",
    "      'Є':'e', '—':'', \"\":''}\n",
    "def trs(text):\n",
    "    \n",
    "    word = ''\n",
    "    for letter in text:\n",
    "         word+=dictionary.get(letter, letter)\n",
    "    \n",
    "    return word\n"
   ]
  },
  {
   "cell_type": "code",
   "execution_count": 46,
   "metadata": {},
   "outputs": [
    {
     "name": "stdout",
     "output_type": "stream",
     "text": [
      "Peredat privet kosmonavtam, kotorye rabotaut na stancii, zhiteli goroda na Neve smogut do nachala dekabrya MKS, proletauschuu nad nami, budet vidno s uzhnoi storony.\n"
     ]
    }
   ],
   "source": [
    "news = \"Передать привет космонавтам, которые работают на станции, жители города на Неве смогут до начала декабря: МКС, пролетающую над нами, будет видно с южной стороны.\"\n",
    "\n",
    "print(trs(news))"
   ]
  },
  {
   "cell_type": "code",
   "execution_count": 15,
   "metadata": {},
   "outputs": [
    {
     "name": "stdout",
     "output_type": "stream",
     "text": [
      "Напечатайте текст: Привет, Дима!\n",
      "Privet Dima!"
     ]
    }
   ],
   "source": [
    "dictionary = {'а':'a','б':'b','в':'v','г':'g','д':'d','е':'e','ё':'yo',\n",
    "      'ж':'zh','з':'z','и':'i','й':'i','к':'k','л':'l','м':'m','н':'n',\n",
    "      'о':'o','п':'p','р':'r','с':'s','т':'t','у':'u','ф':'f','х':'h',\n",
    "      'ц':'c','ч':'ch','ш':'sh','щ':'sch','ъ':'','ы':'y','ь':'','э':'e',\n",
    "      'ю':'u','я':'ya', 'А':'A','Б':'B','В':'V','Г':'G','Д':'D','Е':'E','Ё':'YO',\n",
    "      'Ж':'ZH','З':'Z','И':'I','Й':'I','К':'K','Л':'L','М':'M','Н':'N',\n",
    "      'О':'O','П':'P','Р':'R','С':'S','Т':'T','У':'U','Ф':'F','Х':'H',\n",
    "      'Ц':'C','Ч':'CH','Ш':'SH','Щ':'SCH','Ъ':'','Ы':'y','Ь':'','Э':'E',\n",
    "      'Ю':'U','Я':'YA',',':',','?':'?',' ':' ','~':'','!':'!','@':'','#':'',\n",
    "      '$':'','%':'','^':'','&':'','*':'','(':'',')':'','-':'','=':'','+':'',\n",
    "      ':':'',';':'','<':'','>':'','\\'':'','\"':'','\\\\':'','/':'','№':'',\n",
    "      '[':'',']':'','{':'','}':'','ґ':'','ї':'', 'є':'','Ґ':'g','Ї':'i',\n",
    "      'Є':'e', '—':'-'}\n",
    "\n",
    "word = input(\"Напечатайте текст: \")\n",
    "for letter in word:\n",
    "    print(dictionary.get(letter), end = '')"
   ]
  },
  {
   "cell_type": "code",
   "execution_count": 62,
   "metadata": {},
   "outputs": [
    {
     "name": "stdout",
     "output_type": "stream",
     "text": [
      "opaafoY4uIgs\n"
     ]
    }
   ],
   "source": [
    "# генератор паролей\n",
    "\n",
    "import random\n",
    "passw = '' # предварительно создаем переменную для пароля, с типом \"строка\"\n",
    "\n",
    "#пусть в ней будет 12 символов: цифры и латинские буквы двух регистров\n",
    "\n",
    "for x in range(12): \n",
    "    passw = passw + random.choice('123456789qwertyuiopasdfghjklzxcvbnmQWERTYUIOPASDFGHJKLZXCVBNM')\n",
    "    # на каждом из 12 шагов выбираем рандомный символ из списка с букво-цифрами и добавляем в строку\n",
    "print(passw)\n",
    "\n",
    "# запустите ячейку несклько раз: пароли меняются"
   ]
  },
  {
   "cell_type": "code",
   "execution_count": 67,
   "metadata": {},
   "outputs": [
    {
     "name": "stdout",
     "output_type": "stream",
     "text": [
      "123456789qwertyuiopasdfghjklzxcvbnmqwertyuiopasdfghjklzxcvbnmqwertyuiopasdfghjklzxcvbnmqwertyuiopasdfghjklzxcvbnmQWERTYUIOPASDFGHJKLZXCVBNM123456789qwertyuiopasdfghjklzxcvbnmQWERTYUIOPASDFGHJKLZXCVBNMqwertyuiopasdfghjklzxcvbnmQWERTYUIOPASDFGHJKLZXCVBNMQWERTYUIOPASDFGHJKLZXCVBNMqwertyuiopasdfghjklzxcvbnmQWERTYUIOPASDFGHJKLZXCVBNMqwertyuiopasdfghjklzxcvbnm\n"
     ]
    }
   ],
   "source": [
    "import random\n",
    "passw = ''\n",
    "#пусть в ней будет 12 символов: цифры и латинские буквы двух регистров\n",
    "list1 = '123456789'\n",
    "list2 = 'qwertyuiopasdfghjklzxcvbnm'\n",
    "list3 = 'QWERTYUIOPASDFGHJKLZXCVBNM'\n",
    "\n",
    "# for x in list1:\n",
    "    \n",
    "for x in range(15):\n",
    "    passw+=random.choice([list1 for x in range(3)]+[list2 for x in range(8)]+[list3 for x in range(4)])\n",
    "print(passw)\n"
   ]
  },
  {
   "cell_type": "code",
   "execution_count": 65,
   "metadata": {},
   "outputs": [
    {
     "name": "stdout",
     "output_type": "stream",
     "text": [
      "0\n",
      "1\n",
      "2\n"
     ]
    }
   ],
   "source": [
    "new1 = '123456789'\n",
    "new1 = range(3) # генератор, от нуля до 20 с шагом 5\n",
    "for i in new1:\n",
    "    print(i)"
   ]
  },
  {
   "cell_type": "code",
   "execution_count": 66,
   "metadata": {},
   "outputs": [
    {
     "ename": "IndentationError",
     "evalue": "expected an indented block (<ipython-input-66-b1126ba65031>, line 17)",
     "output_type": "error",
     "traceback": [
      "\u001b[1;36m  File \u001b[1;32m\"<ipython-input-66-b1126ba65031>\"\u001b[1;36m, line \u001b[1;32m17\u001b[0m\n\u001b[1;33m    print(passw)\u001b[0m\n\u001b[1;37m    ^\u001b[0m\n\u001b[1;31mIndentationError\u001b[0m\u001b[1;31m:\u001b[0m expected an indented block\n"
     ]
    }
   ],
   "source": [
    "import random\n",
    "passw = ''\n",
    "passw1 = ''\n",
    "passw2 = ''\n",
    "passw3 = ''\n",
    "# str1 = '123456789'\n",
    "# str2 = 'qwertyuiopasdfghjklzxcvbnm'\n",
    "# str3 = 'QWERTYUIOPASDFGHJKLZXCVBNM'\n",
    "for x in range(3):\n",
    "    passw1 = passw1 + random.choice('123456789')\n",
    "for x in range(8):\n",
    "    passw2 = passw2 + random.choice('qwertyuiopasdfghjklzxcvbnm')\n",
    "for x in range(4):\n",
    "    passw3 = passw3 + random.choice('QWERTYUIOPASDFGHJKLZXCVBNM')\n",
    "passw = passw1+passw2+passw3\n",
    "for x in range(15):\n",
    "print(passw)\n",
    "    \n"
   ]
  },
  {
   "cell_type": "code",
   "execution_count": 43,
   "metadata": {},
   "outputs": [
    {
     "ename": "IndentationError",
     "evalue": "expected an indented block (<ipython-input-43-79d2edb2e512>, line 9)",
     "output_type": "error",
     "traceback": [
      "\u001b[1;36m  File \u001b[1;32m\"<ipython-input-43-79d2edb2e512>\"\u001b[1;36m, line \u001b[1;32m9\u001b[0m\n\u001b[1;33m    passw1 = passw1 + random.choice('123456789')\u001b[0m\n\u001b[1;37m    ^\u001b[0m\n\u001b[1;31mIndentationError\u001b[0m\u001b[1;31m:\u001b[0m expected an indented block\n"
     ]
    }
   ],
   "source": [
    "import random\n",
    "passw = ''\n",
    "\n",
    "# str1 = '123456789'\n",
    "# str2 = 'qwertyuiopasdfghjklzxcvbnm'\n",
    "# str3 = 'QWERTYUIOPASDFGHJKLZXCVBNM'\n",
    "for x in range(15):\n",
    "    for x in range (3):\n",
    "    passw1 = passw1 + random.choice('123456789')\n",
    "    for x in range(8):\n",
    "    passw2 = passw2 + random.choice('qwertyuiopasdfghjklzxcvbnm')\n",
    "    for x in range(4):\n",
    "    passw3 = passw3 + random.choice('QWERTYUIOPASDFGHJKLZXCVBNM')\n",
    "passw = (passw1+passw2+passw3)\n",
    "\n",
    "print(passw)"
   ]
  },
  {
   "cell_type": "code",
   "execution_count": 34,
   "metadata": {},
   "outputs": [
    {
     "ename": "TypeError",
     "evalue": "'type' object is not subscriptable",
     "output_type": "error",
     "traceback": [
      "\u001b[1;31m---------------------------------------------------------------------------\u001b[0m",
      "\u001b[1;31mTypeError\u001b[0m                                 Traceback (most recent call last)",
      "\u001b[1;32m<ipython-input-34-cfe5df7195cc>\u001b[0m in \u001b[0;36m<module>\u001b[1;34m\u001b[0m\n\u001b[0;32m      2\u001b[0m \u001b[0mpassw\u001b[0m \u001b[1;33m=\u001b[0m \u001b[1;34m''\u001b[0m\u001b[1;33m\u001b[0m\u001b[1;33m\u001b[0m\u001b[0m\n\u001b[0;32m      3\u001b[0m \u001b[1;31m#пусть в ней будет 12 символов: цифры и латинские буквы двух регистров\u001b[0m\u001b[1;33m\u001b[0m\u001b[1;33m\u001b[0m\u001b[1;33m\u001b[0m\u001b[0m\n\u001b[1;32m----> 4\u001b[1;33m \u001b[0mlist1\u001b[0m \u001b[1;33m=\u001b[0m \u001b[0mrange\u001b[0m\u001b[1;33m[\u001b[0m\u001b[1;36m123456789\u001b[0m\u001b[1;33m]\u001b[0m\u001b[1;33m\u001b[0m\u001b[1;33m\u001b[0m\u001b[0m\n\u001b[0m\u001b[0;32m      5\u001b[0m \u001b[0mlist2\u001b[0m \u001b[1;33m=\u001b[0m \u001b[0mrange\u001b[0m\u001b[1;33m[\u001b[0m\u001b[0mqwertyuiopasdfghjklzxcvbnm\u001b[0m\u001b[1;33m]\u001b[0m\u001b[1;33m\u001b[0m\u001b[1;33m\u001b[0m\u001b[0m\n\u001b[0;32m      6\u001b[0m \u001b[0mlist3\u001b[0m \u001b[1;33m=\u001b[0m \u001b[0mrange\u001b[0m\u001b[1;33m[\u001b[0m\u001b[0mQWERTYUIOPASDFGHJKLZXCVBNM\u001b[0m\u001b[1;33m]\u001b[0m\u001b[1;33m\u001b[0m\u001b[1;33m\u001b[0m\u001b[0m\n",
      "\u001b[1;31mTypeError\u001b[0m: 'type' object is not subscriptable"
     ]
    }
   ],
   "source": [
    "import random\n",
    "passw = ''\n",
    "#пусть в ней будет 12 символов: цифры и латинские буквы двух регистров\n",
    "list1 = range[123456789]\n",
    "list2 = range[qwertyuiopasdfghjklzxcvbnm]\n",
    "list3 = range[QWERTYUIOPASDFGHJKLZXCVBNM]\n",
    "\n",
    "for x in list1(4), list2(8), list3(3):\n",
    "     passw+=random.choice(list1+list2+list3)\n",
    "print(passw)\n"
   ]
  },
  {
   "cell_type": "code",
   "execution_count": null,
   "metadata": {},
   "outputs": [],
   "source": [
    "dic = {'ь':'', 'ъ':'', 'а':'a', 'б':'b','в':'v',\n",
    "       'г':'g', 'д':'d', 'е':'e', 'ё':'yo','ж':'zh',\n",
    "       'з':'z', 'и':'i', 'й':'y', 'к':'k', 'л':'l',\n",
    "       'м':'m', 'н':'n', 'о':'o', 'п':'p', 'р':'r', \n",
    "       'с':'s', 'т':'t', 'у':'u', 'ф':'f', 'х':'h',\n",
    "       'ц':'ts', 'ч':'ch', 'ш':'sh', 'щ':'sch', 'ы':'yi',\n",
    "       'э':'e', 'ю':'yu', 'я':'ya'}\n",
    " \n",
    "def tr(x):\n",
    "    t = ''\n",
    "    for i in x:\n",
    "        t+=dic.get(i, i)\n",
    "#         t+=dic.get(i.lower(), i.lower()).upper() if i.isupper() else dic.get(i, i)\n",
    "    return t"
   ]
  }
 ],
 "metadata": {
  "kernelspec": {
   "display_name": "Python 3",
   "language": "python",
   "name": "python3"
  },
  "language_info": {
   "codemirror_mode": {
    "name": "ipython",
    "version": 3
   },
   "file_extension": ".py",
   "mimetype": "text/x-python",
   "name": "python",
   "nbconvert_exporter": "python",
   "pygments_lexer": "ipython3",
   "version": "3.8.6"
  }
 },
 "nbformat": 4,
 "nbformat_minor": 4
}
